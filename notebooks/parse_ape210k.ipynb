{
 "cells": [
  {
   "cell_type": "code",
   "execution_count": 1,
   "metadata": {},
   "outputs": [
    {
     "name": "stdout",
     "output_type": "stream",
     "text": [
      "INFO: Pandarallel will run on 40 workers.\n",
      "INFO: Pandarallel will use Memory file system to transfer data between the main process and workers.\n"
     ]
    }
   ],
   "source": [
    "import warnings\n",
    "from typing import Iterable\n",
    "\n",
    "import datasets\n",
    "import pandas as pd\n",
    "import numpy as np\n",
    "import sympy\n",
    "import lark\n",
    "import pandarallel\n",
    "from tqdm.auto import tqdm\n",
    "\n",
    "import gadgets\n",
    "\n",
    "tqdm.pandas()\n",
    "pandarallel.pandarallel.initialize(progress_bar=True)"
   ]
  },
  {
   "cell_type": "code",
   "execution_count": 2,
   "metadata": {},
   "outputs": [],
   "source": [
    "df = {\n",
    "    \"train\": pd.read_json(\"../data/ape210k/my_train.ape.jsonl\", lines=True),\n",
    "    \"valid\": pd.read_json(\"../data/ape210k/my_valid.ape.jsonl\", lines=True),\n",
    "    \"test\": pd.read_json(\"../data/ape210k/my_tests.ape.jsonl\", lines=True),\n",
    "}"
   ]
  },
  {
   "cell_type": "code",
   "execution_count": 3,
   "metadata": {},
   "outputs": [],
   "source": [
    "grammar = \"\"\"\n",
    "?start: expr\n",
    "\n",
    "?expr: neg\n",
    "\n",
    "?atom: num\n",
    "    | implicit_mul\n",
    "    | \"(\" expr \")\"\n",
    "\n",
    "implicit_mul: num ( \"(\" expr \")\" )+\n",
    "            | \"(\" expr \")\" ( \"(\" expr \")\" )+\n",
    "\n",
    "?neg: add\n",
    "    | \"-\" neg -> neg\n",
    "    | \"-\" add -> neg\n",
    "?add: sub\n",
    "    | sub (\"+\" sub)+ -> add\n",
    "?sub: mul\n",
    "    | mul (\"-\" mul)+ -> sub\n",
    "?mul: div\n",
    "    | div (\"*\" div)+ -> mul\n",
    "?div: pow\n",
    "    | pow (\"/\" pow)+ -> div\n",
    "?pow: perc\n",
    "    | perc (\"**\" perc)+ -> pow\n",
    "?perc: atom \"%\" -> perc\n",
    "     | atom\n",
    "?num: SIGNED_NUMBER\n",
    "\n",
    "%import common.SIGNED_NUMBER\n",
    "%import common.WS\n",
    "%ignore WS\n",
    "\"\"\"\n",
    "\n"
   ]
  },
  {
   "cell_type": "code",
   "execution_count": 30,
   "metadata": {},
   "outputs": [],
   "source": [
    "class TreeEvaluator:\n",
    "\n",
    "    def __init__(self, calc: gadgets.gadget.Calculator, parser: lark.Lark) -> None:\n",
    "        self.cache = {}\n",
    "        self.calc = calc\n",
    "        self.parser = parser\n",
    "\n",
    "    def eval_tree(self, tree: lark.Tree | lark.Token) -> tuple[str, sympy.Expr]:\n",
    "        if tree not in self.cache:\n",
    "            self.cache[tree] = self._eval_tree(tree)\n",
    "        return self.cache[tree]\n",
    "\n",
    "    def _eval_tree(self, tree: lark.Tree | lark.Token) -> tuple[str, sympy.Expr]:\n",
    "        if isinstance(tree, lark.Token):\n",
    "            if tree.type in (\"SIGNED_NUMBER\", \"NUMBER\"):\n",
    "                return None, self.calc.evaluate(tree.value)\n",
    "            else:\n",
    "                raise ValueError(f\"unknown token {tree}\")\n",
    "        \n",
    "        assert isinstance(tree.data, str)\n",
    "        operation = tree.data\n",
    "        args_nodes = tree.children\n",
    "        args = [self._format_arg(self.eval_tree(arg_node)[1]) for arg_node in args_nodes]\n",
    "        inputs = self._format_op(operation, args)\n",
    "        return inputs, self.calc.evaluate(inputs)\n",
    "    \n",
    "    def _format_op(self, op: str, args: list[str]) -> str:\n",
    "        if op == \"neg\":\n",
    "            assert len(args) == 1\n",
    "            return \"-\" + args[0]\n",
    "        if op == \"add\" or op == \"implicit_add\":\n",
    "            return \" + \".join(args)  \n",
    "        if op == \"sub\":\n",
    "            return \" - \".join(args)\n",
    "        if op == \"mul\" or op == \"implicit_mul\":\n",
    "            return \" * \".join(args)\n",
    "        if op == \"div\":\n",
    "            return \" / \".join(args)\n",
    "        if op == \"pow\":\n",
    "            return \" ** \".join(args)\n",
    "        if op == \"perc\":\n",
    "            assert len(args) == 1\n",
    "            return f\"{args[0]} / 100\"\n",
    "        raise ValueError(f\"unknown operation {op}\")\n",
    "\n",
    "    def _format_arg(self, value_expr: sympy.Number) -> str:\n",
    "        value_str = self.calc.format_sympy_number(value_expr, add_approx=False)\n",
    "        if isinstance(value_expr, sympy.core.function.Application):\n",
    "            return value_str\n",
    "        if isinstance(value_expr, (sympy.Float, sympy.Integer, sympy.NumberSymbol)):\n",
    "            if value_expr < 0:\n",
    "                return \"(\" + value_str + \")\"\n",
    "            return value_str\n",
    "        if isinstance(value_expr, sympy.Rational):\n",
    "            return \"(\" + value_str + \")\"\n",
    "        if isinstance(value_expr, (sympy.Mul, sympy.Pow, sympy.Add)):\n",
    "            return \"(\" + value_str + \")\"\n",
    "        warnings.warn(f\"weird value type {type(value_expr)} for {value_expr} (string: '{value_str}')\")\n",
    "        return \"(\" + value_str + \")\"\n",
    "\n",
    "    def dfs(self, tree: lark.Tree | lark.Token) -> Iterable[lark.Tree | lark.Token]:\n",
    "        if isinstance(tree, lark.Tree):\n",
    "            for child in tree.children:\n",
    "                yield from self.dfs(child)\n",
    "        yield tree\n",
    "\n",
    "    def expr_to_steps(self, expr: str, drop_repeated: bool = True) -> tuple[list[gadgets.datatypes.Interaction], sympy.Expr]:\n",
    "        tree = self.parser.parse(expr)\n",
    "        steps = []\n",
    "        for subtree in self.dfs(tree):\n",
    "            step = self.eval_tree(subtree)\n",
    "            if step is None:\n",
    "                continue\n",
    "            if step[0] is None:\n",
    "                continue\n",
    "            inputs, output_expr = step\n",
    "            interaction = gadgets.datatypes.Interaction(\n",
    "                gadget_id=\"calculator\",\n",
    "                inputs=inputs,\n",
    "                outputs=self.calc.format_sympy_number(output_expr),\n",
    "            )\n",
    "            if drop_repeated and interaction in steps:\n",
    "                continue\n",
    "            steps.append(interaction)\n",
    "            \n",
    "        _, result = self.eval_tree(tree)\n",
    "        return steps, result\n",
    "    "
   ]
  },
  {
   "cell_type": "code",
   "execution_count": 31,
   "metadata": {},
   "outputs": [
    {
     "data": {
      "text/plain": [
       "([Interaction(gadget_id='calculator', inputs='(-1) / (-5)', outputs='1/5 = around 0.2'),\n",
       "  Interaction(gadget_id='calculator', inputs='1 / 4_000', outputs='1/4_000 = around 0.00025'),\n",
       "  Interaction(gadget_id='calculator', inputs='(1/4_000) / 100', outputs='1/400_000 = around 0.000002'),\n",
       "  Interaction(gadget_id='calculator', inputs='1 - (1/5) - (1/400_000)', outputs='319_999/400_000 = around 0.799998')],\n",
       " 319999/400000)"
      ]
     },
     "execution_count": 31,
     "metadata": {},
     "output_type": "execute_result"
    }
   ],
   "source": [
    "calc = gadgets.gadget.Calculator()\n",
    "parser = lark.Lark(grammar)\n",
    "\n",
    "TreeEvaluator(calc, parser).expr_to_steps(\"1-(-1/-5)-(1/4000)%\")"
   ]
  },
  {
   "cell_type": "code",
   "execution_count": 32,
   "metadata": {},
   "outputs": [
    {
     "data": {
      "text/plain": [
       "Index(['id', 'question_chinese', 'question_english_mt', 'equation', 'result',\n",
       "       'chain_list', 'my_result', 'chain_markup', 'result_eval', 'result_eq'],\n",
       "      dtype='object')"
      ]
     },
     "execution_count": 32,
     "metadata": {},
     "output_type": "execute_result"
    }
   ],
   "source": [
    "df[\"valid\"].columns"
   ]
  },
  {
   "cell_type": "code",
   "execution_count": 33,
   "metadata": {},
   "outputs": [],
   "source": [
    "def try_stepify(expr: str) -> tuple[list[gadgets.datatypes.Interaction], sympy.Expr] | tuple[None, None]:\n",
    "    evaluator = TreeEvaluator(calc, parser)\n",
    "    expr = expr.removeprefix(\"x=\").replace(\":\", \"/\").lstrip(\"+\")\n",
    "    try:\n",
    "        chain, result = evaluator.expr_to_steps(expr)\n",
    "        result_str = calc.format_sympy_number(result)\n",
    "        return chain, result, str(gadgets.markup.to_model_markup(chain=chain, result=result_str))\n",
    "    except Exception:\n",
    "        print(f\"failed to parse {expr}\")\n",
    "        return None, None, None\n",
    "\n",
    "def try_result_eval(expr: str) -> sympy.Expr:\n",
    "    evaluator = TreeEvaluator(calc, parser)\n",
    "    expr = expr.replace(\":\", \"/\").lstrip(\"+\")\n",
    "    try:\n",
    "        inputs, output = evaluator.expr_to_steps(expr)\n",
    "        return output\n",
    "    except Exception:\n",
    "        print(f\"failed to parse {expr}\")\n",
    "        return None\n"
   ]
  },
  {
   "cell_type": "code",
   "execution_count": 34,
   "metadata": {},
   "outputs": [
    {
     "data": {
      "application/vnd.jupyter.widget-view+json": {
       "model_id": "c6e0ff2667c343a1a033414fa80101aa",
       "version_major": 2,
       "version_minor": 0
      },
      "text/plain": [
       "VBox(children=(HBox(children=(IntProgress(value=0, description='0.00%', max=5013), Label(value='0 / 5013'))), …"
      ]
     },
     "metadata": {},
     "output_type": "display_data"
    },
    {
     "name": "stdout",
     "output_type": "stream",
     "text": [
      "failed to parse 1-(1/+(2048/1))\n",
      "failed to parse (-(9/-((9/1)-(10/1)))+(10/-((9/1)-(10/1))))-((-(9/-((9/1)-(10/1)))+(10/-((9/1)-(10/1))))/2)+((-(9/-((9/1)-(10/1)))+(10/-((9/1)-(10/1))))/10)\n",
      "failed to parse 1*(2004/(+(3-2)+1))+1\n",
      "failed to parse 6.3+6.3*(3/+(2/1))\n",
      "failed to parse 10.75/(1+(+(3/1)/4)+(1/2))\n",
      "failed to parse 1003+((+((2006**2+1)/(2006**2-1))+(2/(2005*2007)))-((+((2006**2+1)/(2006**2-1))+(2/(2005*2007)))/2007))\n",
      "failed to parse (((+(2005/2005)+2005)*2005/2)/2005)\n",
      "failed to parse (1+(10/1))*+(10/1)/2\n",
      "failed to parse (((+(1990/1990)+1990)*1990/2)/1990)\n",
      "failed to parse 1+(1/2)-(1/+(128/1))\n",
      "failed to parse 102-101+100/+(4+3-2-1)*+(4+3-2-1)\n",
      "failed to parse 1-(1/+(256/1))\n",
      "failed to parse (16/(4-(16/10)*2))*((16/10)++(4-(16/10)*2))\n",
      "failed to parse 2*+(999-1)*((+(999-1)+999-(999-1))/2)\n",
      "failed to parse (1/2)-(1/+(512/1))\n",
      "failed to parse (1+(1991/1))*+(1991/1)/2\n",
      "failed to parse (39*(22*+(+((+(+((+(+((+(+((3/1)/1)/1)/1)/1)/1)/1)/1)/1)/1)/1)/1)-(22+25+34+39)/2)/2-(22+25+34+39)/2)/2\n",
      "failed to parse 26-(+((2/1)/1)/(+(3/1)/1))*(36-26)/(((+(3/1)/1)/+((2/1)/1))-(+((2/1)/1)/(+(3/1)/1)))\n",
      "failed to parse (+9(1/2))+(-3(7/3))+8(1/2)+(+(3/7))\n",
      "failed to parse 100*1.2*(1-100*40%%)/(1.2*(1-(1/6)))+100*40%\n",
      "failed to parse (80+28-80*90%)/(80*90%%)%\n",
      "failed to parse (1/+(101/1))\n",
      "failed to parse 1*(2011-1)/(+(3-2)+1)+1\n",
      "failed to parse 8/100*200*20%+5/10*200*200*20%%+8/10*200*200*20%%\n",
      "failed to parse (1/+(666/1))*333\n",
      "failed to parse 1-(1/+(128/1))\n",
      "failed to parse 50*+(100-99)\n",
      "failed to parse (1993-(+1991-1992+1993))+((1993-(1993-(+1991-1992+1993)))/2)*+(1993-(+1991-1992+1993))\n",
      "failed to parse (+(100/100)+50)*50/2+(50.5+1.5)*50/2\n",
      "failed to parse (1/2)*(1+(30/1))*+(30/1)\n",
      "failed to parse (1/2008)-(1/+(1/(2008*2009))+(2009/1))+(1/+(1/(2008*2009))+(2009/1))\n",
      "failed to parse (+(20/20)+10.5)*20/2\n",
      "failed to parse 2003++(6-5)+(-4+3)+(2-1)-(6-5)+(-4+3)+(2-1)+(6-5)+(-4+3)+(2-1)\n",
      "failed to parse (1/((1+(2015/1))*+(2015/1)/2))\n",
      "failed to parse 101+1*(100-(+(5-4)+(3-(+3-2+1))))/(+(5-4)+(3-(+3-2+1)))\n",
      "failed to parse 1-(1/+(128/1))\n",
      "failed to parse (1/5)*2-(1/+(1280/1))\n",
      "failed to parse (1000-10)/(+(14-13)+(12-11))*1\n",
      "failed to parse (1/1004)*(1/+((2006/1)+1))\n",
      "failed to parse (8-100*40%%*8)/(100*40%%)\n",
      "failed to parse 1006+((+((2012*2012)/(2011*2013))+(+((2012*2012)/(2011*2013))/(2011*2013)))/2)*((+((2012*2012)/(2011*2013))+(+((2012*2012)/(2011*2013))/(2011*2013)))-((+((2012*2012)/(2011*2013))+(+((2012*2012)/(2011*2013))/(2011*2013)))/2013))\n",
      "failed to parse 2008+(2007-(+(3-(+3-2+1))+1)+1)/(+(3-(+3-2+1))+1)*1+1\n",
      "failed to parse (1+8%-1-6.4%-6.4%*8%)/(1%+6.4%%-1%)%\n",
      "failed to parse 2.4/(60%-(1-40%))*60%\n",
      "failed to parse 7/14%-(7/14%*7/14%%+7/14%*(2/5)-7)\n",
      "failed to parse ((44/(1-((1/4)+(1/5))))-44)/(1+(1-(2/19)))*+(1-(2/19))\n",
      "failed to parse (1/(6/+(+2/1)))\n",
      "failed to parse (200+400)*200*4%%-200*4%+(200+400)*2%\n",
      "failed to parse (1/2001)-(1/2002)+(1/2002)-(1/+(1/(2001*2002))+(1/(2002*2003))+(2003/1))+(1/+(1/(2001*2002))+(1/(2002*2003))+(2003/1))\n",
      "failed to parse (1+(80-(+80-40)))*+(80-(+80-40))/2\n",
      "failed to parse (1/+(+((+((3/1)/1)/1)/1)/1))\n",
      "failed to parse ((-(9/-((9/1)-(10/1)))+(10/-((9/1)-(10/1))))/10)\n",
      "failed to parse ((25+(75+550-375)/2*75/(75+550))/(375+(75+550-375)/2))*500*20%%\n",
      "failed to parse (+((1987/1998)*(1998/1987))/2)*+((1987/1998)*(1998/1987))\n",
      "failed to parse (1+25%-1)/(1%+25%%)%\n",
      "failed to parse ((+(((199*48)/97)+((199*49)/97))*(1+96))/97)*48\n",
      "failed to parse 1006+(((+((2013**2+1)/(2013**2-1))+(2/(2013**2-((2013**2+1)/(2013**2-1)))))/2)-((+((2013**2+1)/(2013**2-1))+(2/(2013**2-((2013**2+1)/(2013**2-1)))))/2014))\n",
      "failed to parse 4000+((+((2000**2+2001**2)/(2000*2001))+((2000/1)-(2001/1)))-((+((2000**2+2001**2)/(2000*2001))+((2000/1)-(2001/1)))/2001))\n",
      "failed to parse 0+2-(+(6-5-4+3)+2-(+6-5-4+3+2-1))\n",
      "failed to parse (1/8)-(1/+(+(+(10/1)*(8/1)/1)/1))\n",
      "failed to parse (24/5+8/3-64/15)/(1/+(6/1))\n",
      "failed to parse (+(1+100-1)+1)*50\n",
      "failed to parse 503*+(4-(+4-2))\n",
      "failed to parse 1-(1/+(64/1))\n",
      "failed to parse ((-(9/-((9/1)-(10/1)))+(10/-((9/1)-(10/1))))/10)\n",
      "failed to parse 98+(5-4)-(3-2)+1-(5-4)-(3-2)+1+(5-4)-(3-2)+1-(5-4)-(3-2)+1+(5-4)-(3-2)+1-(5-4)-(3-2)+1++(5-4)-(3-2)+1-(5-4)-(3-2)+1+(5-4)-(3-2)+1\n",
      "failed to parse (+((+4**2-3**2-2**2+1**2)**2-3**2)-(2**2-1**2)+3-2-1)*25\n",
      "failed to parse ((2009-2)/3+(2000-1999))*+(2000-1999)\n",
      "failed to parse (198+197-196-195)*((1998-195+1)/+(198+197-196-195))\n",
      "failed to parse (24/5+8/3-64/15)/(1/+(6/1))\n",
      "failed to parse (1003-(1003-1002))*+(1003-(1003-1002))\n",
      "failed to parse ((7*(7+1)*(7+2)/6)/+(36/1))\n"
     ]
    },
    {
     "data": {
      "application/vnd.jupyter.widget-view+json": {
       "model_id": "ac41b1b885344413ab4ba27fc502302b",
       "version_major": 2,
       "version_minor": 0
      },
      "text/plain": [
       "VBox(children=(HBox(children=(IntProgress(value=0, description='0.00%', max=125), Label(value='0 / 125'))), HB…"
      ]
     },
     "metadata": {},
     "output_type": "display_data"
    },
    {
     "name": "stdout",
     "output_type": "stream",
     "text": [
      "failed to parse 1.8/(1.2/(60*100000))/100000\n",
      "failed to parse (1007-1)*+(1007-1)\n"
     ]
    },
    {
     "data": {
      "application/vnd.jupyter.widget-view+json": {
       "model_id": "6100bcac613944c98e6d9bde54698f44",
       "version_major": 2,
       "version_minor": 0
      },
      "text/plain": [
       "VBox(children=(HBox(children=(IntProgress(value=0, description='0.00%', max=125), Label(value='0 / 125'))), HB…"
      ]
     },
     "metadata": {},
     "output_type": "display_data"
    },
    {
     "name": "stdout",
     "output_type": "stream",
     "text": [
      "failed to parse (+(100/100)+(5050/100))*100/2\n",
      "failed to parse 1-(1/+(512/1))\n",
      "failed to parse (2/+(3/1))\n",
      "failed to parse (2950+25-+(1998-1997))*25-(2949+25-+(1998-1997))*25\n"
     ]
    }
   ],
   "source": [
    "for split in df.keys():\n",
    "    df[split][\"chain_list\"], df[split][\"my_result\"], df[split][\"chain_markup\"] = zip(*df[split][\"equation\"].parallel_apply(try_stepify))"
   ]
  },
  {
   "cell_type": "code",
   "execution_count": 35,
   "metadata": {},
   "outputs": [
    {
     "data": {
      "application/vnd.jupyter.widget-view+json": {
       "model_id": "27b5bfd52e534509a6752815c997caa7",
       "version_major": 2,
       "version_minor": 0
      },
      "text/plain": [
       "VBox(children=(HBox(children=(IntProgress(value=0, description='0.00%', max=5013), Label(value='0 / 5013'))), …"
      ]
     },
     "metadata": {},
     "output_type": "display_data"
    },
    {
     "name": "stdout",
     "output_type": "stream",
     "text": [
      "failed to parse 25%%\n",
      "failed to parse 100%%\n"
     ]
    },
    {
     "data": {
      "application/vnd.jupyter.widget-view+json": {
       "model_id": "48035ac5b43843d2907bd30e996e1dc2",
       "version_major": 2,
       "version_minor": 0
      },
      "text/plain": [
       "VBox(children=(HBox(children=(IntProgress(value=0, description='0.00%', max=125), Label(value='0 / 125'))), HB…"
      ]
     },
     "metadata": {},
     "output_type": "display_data"
    },
    {
     "data": {
      "application/vnd.jupyter.widget-view+json": {
       "model_id": "7fcf2fdc78ac4591a2128eb8a6e05b1d",
       "version_major": 2,
       "version_minor": 0
      },
      "text/plain": [
       "VBox(children=(HBox(children=(IntProgress(value=0, description='0.00%', max=125), Label(value='0 / 125'))), HB…"
      ]
     },
     "metadata": {},
     "output_type": "display_data"
    }
   ],
   "source": [
    "for split in df.keys():\n",
    "    df[split][\"result_eval\"] = df[split][\"result\"].parallel_apply(try_result_eval)"
   ]
  },
  {
   "cell_type": "code",
   "execution_count": 36,
   "metadata": {},
   "outputs": [
    {
     "name": "stdout",
     "output_type": "stream",
     "text": [
      "test 0.9746\n",
      "valid 0.9742\n",
      "train 0.9746269103387734\n"
     ]
    }
   ],
   "source": [
    "import math\n",
    "def eq(x, y, tol=1e-5):\n",
    "    if x is None or y is None:\n",
    "        return False\n",
    "    return math.isclose(x.evalf(), y.evalf(), abs_tol=tol)\n",
    "\n",
    "for name, split in reversed(df.items()):\n",
    "    df[name][\"result_eq\"] = [eq(x, y) for x, y in zip(split[\"my_result\"], split[\"result_eval\"])]\n",
    "    print(name, df[name][\"result_eq\"].mean())"
   ]
  },
  {
   "cell_type": "code",
   "execution_count": 55,
   "metadata": {},
   "outputs": [
    {
     "data": {
      "text/plain": [
       "Index(['id', 'question_chinese', 'question_english_mt', 'equation', 'result',\n",
       "       'chain_list', 'my_result', 'chain_markup', 'result_eval', 'result_eq'],\n",
       "      dtype='object')"
      ]
     },
     "execution_count": 55,
     "metadata": {},
     "output_type": "execute_result"
    }
   ],
   "source": [
    "df[\"train\"].columns"
   ]
  },
  {
   "cell_type": "code",
   "execution_count": 94,
   "metadata": {},
   "outputs": [],
   "source": [
    "def export_split(split: pd.DataFrame):\n",
    "    orig_size = len(split)\n",
    "    # drop unparseable\n",
    "    split = split.dropna()\n",
    "    # drop with inconsistent results\n",
    "    split = split[split[\"result_eq\"]]\n",
    "    # drop with ambiguous result caused by implicit multiplication vs compound fraction\n",
    "    split = split[~split[\"result\"].str.contains(\"\\d\\(\", regex=True)]\n",
    "    print(len(split) / orig_size)\n",
    "    return pd.DataFrame({\n",
    "        \"id\": split[\"id\"],\n",
    "        \"question_chinese\": split[\"question_chinese\"],\n",
    "        \"question_english_mt\": split[\"question_english_mt\"],\n",
    "        \"equation\": split[\"equation\"],\n",
    "        \"result_orig_format\": split[\"result\"],\n",
    "        \"result_new_format\": split[\"my_result\"].apply(lambda x: calc.format_sympy_number(x, add_approx=False)),\n",
    "        \"result_float\": split[\"my_result\"].apply(lambda x: float(x.evalf())),\n",
    "        \"chain\": split[\"chain_markup\"],\n",
    "    })"
   ]
  },
  {
   "cell_type": "code",
   "execution_count": 95,
   "metadata": {},
   "outputs": [
    {
     "name": "stdout",
     "output_type": "stream",
     "text": [
      "0.9735196121463628\n",
      "0.9734\n",
      "0.9734\n"
     ]
    }
   ],
   "source": [
    "for split in df.keys():\n",
    "    export_split(df[split]).to_json(f\"../data/ape210k/processed/{split}.jsonl\", lines=True, orient=\"records\", force_ascii=False)"
   ]
  },
  {
   "cell_type": "code",
   "execution_count": 97,
   "metadata": {},
   "outputs": [
    {
     "name": "stderr",
     "output_type": "stream",
     "text": [
      "Using custom data configuration default-4fbe7afbe04d68b2\n"
     ]
    },
    {
     "name": "stdout",
     "output_type": "stream",
     "text": [
      "Downloading and preparing dataset json/default to /var/tmp/xkadlci2/.cache/huggingface/datasets/json/default-4fbe7afbe04d68b2/0.0.0/0f7e3662623656454fcd2b650f34e886a7db4b9104504885bd462096cc7a9f51...\n"
     ]
    },
    {
     "data": {
      "application/vnd.jupyter.widget-view+json": {
       "model_id": "ae2a30ecf89c41a7bfd168d7f6a8f33b",
       "version_major": 2,
       "version_minor": 0
      },
      "text/plain": [
       "Downloading data files:   0%|          | 0/3 [00:00<?, ?it/s]"
      ]
     },
     "metadata": {},
     "output_type": "display_data"
    },
    {
     "data": {
      "application/vnd.jupyter.widget-view+json": {
       "model_id": "ba0fe69d430b4e149f6088ae99b97055",
       "version_major": 2,
       "version_minor": 0
      },
      "text/plain": [
       "Extracting data files:   0%|          | 0/3 [00:00<?, ?it/s]"
      ]
     },
     "metadata": {},
     "output_type": "display_data"
    },
    {
     "data": {
      "application/vnd.jupyter.widget-view+json": {
       "model_id": "fa945a8bfa51441bb494267611c9a5d5",
       "version_major": 2,
       "version_minor": 0
      },
      "text/plain": [
       "Generating train split: 0 examples [00:00, ? examples/s]"
      ]
     },
     "metadata": {},
     "output_type": "display_data"
    },
    {
     "data": {
      "application/vnd.jupyter.widget-view+json": {
       "model_id": "1d7c64aa1db1468fb5450d02f3976fa4",
       "version_major": 2,
       "version_minor": 0
      },
      "text/plain": [
       "Generating validation split: 0 examples [00:00, ? examples/s]"
      ]
     },
     "metadata": {},
     "output_type": "display_data"
    },
    {
     "data": {
      "application/vnd.jupyter.widget-view+json": {
       "model_id": "bf5db6eab93c4906860e235894401760",
       "version_major": 2,
       "version_minor": 0
      },
      "text/plain": [
       "Generating test split: 0 examples [00:00, ? examples/s]"
      ]
     },
     "metadata": {},
     "output_type": "display_data"
    },
    {
     "name": "stdout",
     "output_type": "stream",
     "text": [
      "Dataset json downloaded and prepared to /var/tmp/xkadlci2/.cache/huggingface/datasets/json/default-4fbe7afbe04d68b2/0.0.0/0f7e3662623656454fcd2b650f34e886a7db4b9104504885bd462096cc7a9f51. Subsequent calls will reuse this data.\n"
     ]
    },
    {
     "data": {
      "application/vnd.jupyter.widget-view+json": {
       "model_id": "09680bd5c77f4be49f22846934378c87",
       "version_major": 2,
       "version_minor": 0
      },
      "text/plain": [
       "  0%|          | 0/3 [00:00<?, ?it/s]"
      ]
     },
     "metadata": {},
     "output_type": "display_data"
    }
   ],
   "source": [
    "ds = datasets.load_dataset(\n",
    "    \"json\",\n",
    "    data_files={\n",
    "        \"train\": \"../data/ape210k/processed/train.jsonl\",\n",
    "        \"validation\": \"../data/ape210k/processed/valid.jsonl\",\n",
    "        \"test\": \"../data/ape210k/processed/test.jsonl\",\n",
    "    }\n",
    ")"
   ]
  },
  {
   "cell_type": "code",
   "execution_count": 119,
   "metadata": {},
   "outputs": [
    {
     "data": {
      "application/vnd.jupyter.widget-view+json": {
       "model_id": "ff8dcb9b5dc54b498620bff831274cb4",
       "version_major": 2,
       "version_minor": 0
      },
      "text/plain": [
       "Downloading readme:   0%|          | 0.00/21.0 [00:00<?, ?B/s]"
      ]
     },
     "metadata": {},
     "output_type": "display_data"
    },
    {
     "name": "stderr",
     "output_type": "stream",
     "text": [
      "Using custom data configuration MU-NLPC--Calc-ape210k-9d633ba24ff13754\n"
     ]
    },
    {
     "name": "stdout",
     "output_type": "stream",
     "text": [
      "Downloading and preparing dataset json/MU-NLPC--Calc-ape210k to /var/tmp/xkadlci2/.cache/huggingface/datasets/MU-NLPC___json/MU-NLPC--Calc-ape210k-9d633ba24ff13754/0.0.0/0f7e3662623656454fcd2b650f34e886a7db4b9104504885bd462096cc7a9f51...\n"
     ]
    },
    {
     "data": {
      "application/vnd.jupyter.widget-view+json": {
       "model_id": "8d43915e2166417b9cf928bf839f1390",
       "version_major": 2,
       "version_minor": 0
      },
      "text/plain": [
       "Downloading data files:   0%|          | 0/3 [00:00<?, ?it/s]"
      ]
     },
     "metadata": {},
     "output_type": "display_data"
    },
    {
     "data": {
      "application/vnd.jupyter.widget-view+json": {
       "model_id": "b80cd5d5167d47f8a690349790b975c2",
       "version_major": 2,
       "version_minor": 0
      },
      "text/plain": [
       "Downloading data:   0%|          | 0.00/137M [00:00<?, ?B/s]"
      ]
     },
     "metadata": {},
     "output_type": "display_data"
    },
    {
     "data": {
      "application/vnd.jupyter.widget-view+json": {
       "model_id": "d4311f76dbd94a708be9deb118252fc2",
       "version_major": 2,
       "version_minor": 0
      },
      "text/plain": [
       "Downloading data:   0%|          | 0.00/3.41M [00:00<?, ?B/s]"
      ]
     },
     "metadata": {},
     "output_type": "display_data"
    },
    {
     "data": {
      "application/vnd.jupyter.widget-view+json": {
       "model_id": "4e48b5894ec64337968056c6587ac492",
       "version_major": 2,
       "version_minor": 0
      },
      "text/plain": [
       "Downloading data:   0%|          | 0.00/3.42M [00:00<?, ?B/s]"
      ]
     },
     "metadata": {},
     "output_type": "display_data"
    },
    {
     "data": {
      "application/vnd.jupyter.widget-view+json": {
       "model_id": "32152baaf6464c398201c89d3d75d051",
       "version_major": 2,
       "version_minor": 0
      },
      "text/plain": [
       "Extracting data files:   0%|          | 0/3 [00:00<?, ?it/s]"
      ]
     },
     "metadata": {},
     "output_type": "display_data"
    },
    {
     "data": {
      "application/vnd.jupyter.widget-view+json": {
       "model_id": "c4c939ff0354497b8ff491763629c4a1",
       "version_major": 2,
       "version_minor": 0
      },
      "text/plain": [
       "Generating train split: 0 examples [00:00, ? examples/s]"
      ]
     },
     "metadata": {},
     "output_type": "display_data"
    },
    {
     "data": {
      "application/vnd.jupyter.widget-view+json": {
       "model_id": "2903edb08fd34fa098e6b32bf8e74e46",
       "version_major": 2,
       "version_minor": 0
      },
      "text/plain": [
       "Generating test split: 0 examples [00:00, ? examples/s]"
      ]
     },
     "metadata": {},
     "output_type": "display_data"
    },
    {
     "data": {
      "application/vnd.jupyter.widget-view+json": {
       "model_id": "f6bd1dbdec744a0caa1eea438d44920a",
       "version_major": 2,
       "version_minor": 0
      },
      "text/plain": [
       "Generating validation split: 0 examples [00:00, ? examples/s]"
      ]
     },
     "metadata": {},
     "output_type": "display_data"
    },
    {
     "name": "stdout",
     "output_type": "stream",
     "text": [
      "Dataset json downloaded and prepared to /var/tmp/xkadlci2/.cache/huggingface/datasets/MU-NLPC___json/MU-NLPC--Calc-ape210k-9d633ba24ff13754/0.0.0/0f7e3662623656454fcd2b650f34e886a7db4b9104504885bd462096cc7a9f51. Subsequent calls will reuse this data.\n"
     ]
    },
    {
     "data": {
      "application/vnd.jupyter.widget-view+json": {
       "model_id": "96a8be7a15b444f0a6b925d47ed2b54d",
       "version_major": 2,
       "version_minor": 0
      },
      "text/plain": [
       "  0%|          | 0/3 [00:00<?, ?it/s]"
      ]
     },
     "metadata": {},
     "output_type": "display_data"
    }
   ],
   "source": [
    "ds = datasets.load_dataset(\"MU-NLPC/Calc-ape210k\")"
   ]
  },
  {
   "cell_type": "code",
   "execution_count": 120,
   "metadata": {},
   "outputs": [
    {
     "data": {
      "text/plain": [
       "DatasetDict({\n",
       "    train: Dataset({\n",
       "        features: ['id', 'question_chinese', 'question_english_mt', 'equation', 'result_orig_format', 'result_new_format', 'result_float', 'chain'],\n",
       "        num_rows: 195179\n",
       "    })\n",
       "    test: Dataset({\n",
       "        features: ['id', 'question_chinese', 'question_english_mt', 'equation', 'result_orig_format', 'result_new_format', 'result_float', 'chain'],\n",
       "        num_rows: 4867\n",
       "    })\n",
       "    validation: Dataset({\n",
       "        features: ['id', 'question_chinese', 'question_english_mt', 'equation', 'result_orig_format', 'result_new_format', 'result_float', 'chain'],\n",
       "        num_rows: 4867\n",
       "    })\n",
       "})"
      ]
     },
     "execution_count": 120,
     "metadata": {},
     "output_type": "execute_result"
    }
   ],
   "source": [
    "ds"
   ]
  }
 ],
 "metadata": {
  "kernelspec": {
   "display_name": "gadgets",
   "language": "python",
   "name": "python3"
  },
  "language_info": {
   "codemirror_mode": {
    "name": "ipython",
    "version": 3
   },
   "file_extension": ".py",
   "mimetype": "text/x-python",
   "name": "python",
   "nbconvert_exporter": "python",
   "pygments_lexer": "ipython3",
   "version": "3.10.9"
  },
  "orig_nbformat": 4,
  "vscode": {
   "interpreter": {
    "hash": "a7f6231f77ec21c2294c3d6709af1e2f422f901d97af66b8d2af2431244273a4"
   }
  }
 },
 "nbformat": 4,
 "nbformat_minor": 2
}
